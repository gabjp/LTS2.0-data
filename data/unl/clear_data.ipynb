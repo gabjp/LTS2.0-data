{
 "cells": [
  {
   "cell_type": "markdown",
   "metadata": {},
   "source": [
    "# Explicação:\n",
    "Nesse arquivo há:\n",
    " - Junção e análise dos dados em catálogo usados para a tarefa de pré-treino.\n",
    "Especificamente:\n",
    " - Tratamento do arquivo de 22GB dos objetos do Stripe82 do DR4\n",
    " - Selecão de objetos para o primeiro conjunto de pré-treino (filtrados, sem valores de 99 e seguindo a distribuição correta)\n",
    " - Breve análise desses dados"
   ]
  },
  {
   "cell_type": "code",
   "execution_count": 1,
   "metadata": {},
   "outputs": [],
   "source": [
    "import pandas as pd\n",
    "import numpy as np\n"
   ]
  },
  {
   "cell_type": "markdown",
   "metadata": {},
   "source": [
    "### Gera CSV limpo:"
   ]
  },
  {
   "cell_type": "code",
   "execution_count": 3,
   "metadata": {},
   "outputs": [],
   "source": [
    "columns = ['ID', 'RA', 'DEC', 'A', 'B', 'KRON_RADIUS', 'FWHM_n', 'e_r_iso','e_u_iso' , 'u_iso', 'e_J0378_iso', 'e_J0395_iso', 'e_J0410_iso', 'e_J0430_iso', 'e_g_iso',\n",
    "'e_J0515_iso', 'J0378_iso', 'J0395_iso', 'J0410_iso', 'J0430_iso', 'g_iso', 'J0515_iso','r_iso', \n",
    "'J0660_iso', 'i_iso', 'J0861_iso', 'z_iso', 'e_J0660_iso', 'e_i_iso', 'e_J0861_iso', 'e_z_iso','SEX_FLAGS_r']\n",
    "datafile = \"/media/gjperin/TOSHIBA EXT/STRIPE82_iDR4.csv\"\n",
    "chunksize = 100000\n",
    "dfs = []\n",
    "for chunk in pd.read_csv(datafile, chunksize=chunksize):\n",
    "    useful = chunk[columns]\n",
    "    useful = useful[(useful.SEX_FLAGS_r == 0) & (useful.r_iso < 22)]\n",
    "    dfs.append(useful)\n",
    "\n",
    "final = pd.concat(dfs)"
   ]
  },
  {
   "cell_type": "code",
   "execution_count": 4,
   "metadata": {},
   "outputs": [],
   "source": [
    "final['ID'] = final['ID'].str[2:30]"
   ]
  },
  {
   "cell_type": "code",
   "execution_count": 5,
   "metadata": {},
   "outputs": [],
   "source": [
    "final.to_csv('./raw_tables/S82_clean.csv')"
   ]
  },
  {
   "cell_type": "markdown",
   "metadata": {},
   "source": [
    "### Retira objetos com classificação"
   ]
  },
  {
   "cell_type": "code",
   "execution_count": 11,
   "metadata": {},
   "outputs": [
    {
     "name": "stdout",
     "output_type": "stream",
     "text": [
      "unl possui 3179663 linhas\n",
      "clf possui 133133 linhas\n"
     ]
    }
   ],
   "source": [
    "unl = pd.read_csv(\"raw_tables/S82_clean.csv\")\n",
    "clf = pd.read_csv(\"../clf/clf_90_5_5.csv\")\n",
    "print(f\"unl possui {len(unl)} linhas\")\n",
    "print(f\"clf possui {len(clf)} linhas\")"
   ]
  },
  {
   "cell_type": "code",
   "execution_count": 12,
   "metadata": {},
   "outputs": [
    {
     "name": "stdout",
     "output_type": "stream",
     "text": [
      "x possui 3046530 linhas\n"
     ]
    }
   ],
   "source": [
    "clf = clf.ID\n",
    "x = pd.merge(unl,clf, indicator=True, how='outer', on=\"ID\").query('_merge==\"left_only\"').drop('_merge', axis=1)\n",
    "print(f\"x possui {len(x)} linhas\")"
   ]
  },
  {
   "cell_type": "markdown",
   "metadata": {},
   "source": [
    "### Retira objetos com magnitude 99"
   ]
  },
  {
   "cell_type": "code",
   "execution_count": 8,
   "metadata": {},
   "outputs": [],
   "source": [
    "x = x[(x['u_iso']!= 99) & (x['J0378_iso']!= 99) & (x['J0395_iso']!= 99) & (x['J0410_iso']!= 99) & (x['J0430_iso']!= 99) & (x['g_iso']!= 99) & (x['J0515_iso']!= 99) & \n",
    "      (x['r_iso'] != 99) & (x['J0660_iso']!= 99) & (x['i_iso']!= 99) & (x['J0861_iso']!= 99) & (x['z_iso']!= 99) ]"
   ]
  },
  {
   "cell_type": "markdown",
   "metadata": {},
   "source": [
    "### Análise da distribuição:"
   ]
  },
  {
   "cell_type": "code",
   "execution_count": 6,
   "metadata": {},
   "outputs": [
    {
     "name": "stdout",
     "output_type": "stream",
     "text": [
      "Existem 17648 objetos com magnitude <= 14\n",
      "Existem 25165 objetos com magnitude 14<r<=15 (2.1083242152744384%)\n",
      "Existem 44332 objetos com magnitude 15<r<=16 (3.714135867734806%)\n",
      "Existem 74477 objetos com magnitude 16<r<=17 (6.239684584978913%)\n",
      "Existem 120550 objetos com magnitude 17<r<=18 (10.099681468362151%)\n",
      "Existem 182653 objetos com magnitude 18<r<=19 (15.302672079973057%)\n",
      "Existem 238015 objetos com magnitude 19<r<=20 (19.940901573556342%)\n",
      "Existem 265689 objetos com magnitude 20<r<=21 (22.25942986020466%)\n",
      "Existem 225073 objetos com magnitude 21<r<=22 (18.856620548558062%)\n"
     ]
    }
   ],
   "source": [
    "print(f\"Existem {len(x[x.r_iso<=14])} objetos com magnitude <= 14\")\n",
    "for i in range(15,23):\n",
    "    c = len(x[(x.r_iso>i-1)&(x.r_iso<=i)])\n",
    "    print(f\"Existem {c} objetos com magnitude {i-1}<r<={i} ({c/len(x)*100}%)\")"
   ]
  },
  {
   "cell_type": "markdown",
   "metadata": {},
   "source": [
    "### Retirar objetos com erro maior que 0.05"
   ]
  },
  {
   "cell_type": "code",
   "execution_count": 9,
   "metadata": {},
   "outputs": [],
   "source": [
    "x = x[(x['e_u_iso']< 0.05) & (x['e_J0378_iso']< 0.05) & (x['e_J0395_iso']< 0.05) & (x['e_J0410_iso']< 0.05) & (x['e_J0430_iso']< 0.05) & (x['e_g_iso']< 0.05) & (x['e_J0515_iso']< 0.05) & \n",
    "      (x['e_r_iso'] < 0.05) & (x['e_J0660_iso']< 0.05) & (x['e_i_iso']< 0.05) & (x['e_J0861_iso']< 0.05) & (x['e_z_iso']< 0.05)]"
   ]
  },
  {
   "cell_type": "code",
   "execution_count": 15,
   "metadata": {},
   "outputs": [],
   "source": [
    "small_noise = x[x.e_r_iso < 0.05].sample(n=120000, axis = 'index', random_state=2)\n"
   ]
  },
  {
   "cell_type": "code",
   "execution_count": 20,
   "metadata": {},
   "outputs": [],
   "source": [
    "small_noise.to_csv(\"unl_small_noise.csv\")"
   ]
  },
  {
   "cell_type": "markdown",
   "metadata": {},
   "source": [
    "### Podar os dados para a distribuição desejada:"
   ]
  },
  {
   "cell_type": "code",
   "execution_count": 17,
   "metadata": {},
   "outputs": [],
   "source": [
    "p = {(19,20):238015, (20,21):190412, (18,19):174733, (21,22):155843, (17,18):104839, (16,17):51947, (15,16):23612, (14,15):1889}\n",
    "datafs = []\n",
    "for key in p.keys():\n",
    "    t = x[(x.r_iso > key[0]) & (x.r_iso <= key[1])]\n",
    "    datafs.append(t.sample(n = p[key], axis='index', random_state=2))\n",
    "final_b = pd.concat(datafs).reset_index(drop=True)"
   ]
  },
  {
   "cell_type": "code",
   "execution_count": 18,
   "metadata": {},
   "outputs": [
    {
     "data": {
      "text/plain": [
       "<matplotlib.axes._subplots.AxesSubplot at 0x7f31974f38b0>"
      ]
     },
     "execution_count": 18,
     "metadata": {},
     "output_type": "execute_result"
    },
    {
     "data": {
      "image/png": "[encoded data removed]",
      "text/plain": [
       "<Figure size 432x288 with 1 Axes>"
      ]
     },
     "metadata": {
      "needs_background": "light"
     },
     "output_type": "display_data"
    }
   ],
   "source": [
    "final_b.r_iso.hist(bins=15)"
   ]
  },
  {
   "cell_type": "code",
   "execution_count": 8,
   "metadata": {},
   "outputs": [],
   "source": [
    "p = {(19,20):238015//8, (20,21):190412//8, (18,19):174733//8, (21,22):155843//8, (17,18):104839//8, (16,17):51947//8, (15,16):23612//8, (14,15):1889//8}\n",
    "datafs = []\n",
    "for key in p.keys():\n",
    "    t = x[(x.r_iso > key[0]) & (x.r_iso <= key[1])]\n",
    "    datafs.append(t.sample(n = p[key], axis='index', random_state=2))\n",
    "final_s = pd.concat(datafs).reset_index(drop=True)"
   ]
  },
  {
   "cell_type": "code",
   "execution_count": 9,
   "metadata": {},
   "outputs": [
    {
     "data": {
      "text/plain": [
       "<matplotlib.axes._subplots.AxesSubplot at 0x7f8ad7e03ac0>"
      ]
     },
     "execution_count": 9,
     "metadata": {},
     "output_type": "execute_result"
    },
    {
     "data": {
      "image/png": "[encoded data removed]",
      "text/plain": [
       "<Figure size 432x288 with 1 Axes>"
      ]
     },
     "metadata": {
      "needs_background": "light"
     },
     "output_type": "display_data"
    }
   ],
   "source": [
    "final_s.r_iso.hist(bins=15)"
   ]
  },
  {
   "cell_type": "markdown",
   "metadata": {},
   "source": [
    "### Retira objetos sem imagem"
   ]
  },
  {
   "cell_type": "code",
   "execution_count": 10,
   "metadata": {},
   "outputs": [],
   "source": [
    "IDS = ['iDR4_3_STRIPE82-0074_0050444',\n",
    "'iDR4_3_STRIPE82-0088_0134958',\n",
    "'iDR4_3_STRIPE82-0119_0007873',\n",
    "'iDR4_3_STRIPE82-0121_0000836',\n",
    "'iDR4_3_STRIPE82-0134_0029763',\n",
    "'iDR4_3_STRIPE82-0087_0139570',\n",
    "'iDR4_3_STRIPE82-0042_0044839',\n",
    "'iDR4_3_STRIPE82-0130_0029840',\n",
    "'iDR4_3_STRIPE82-0158_0030865',\n",
    "'iDR4_3_STRIPE82-0087_0139219',\n",
    "'iDR4_3_STRIPE82-0110_0066277',\n",
    "'iDR4_3_STRIPE82-0088_0132786',\n",
    "'iDR4_3_STRIPE82-0110_0074857',\n",
    "'iDR4_3_STRIPE82-0088_0137405',\n",
    "'iDR4_3_STRIPE82-0042_0044898',\n",
    "'iDR4_3_STRIPE82-0121_0002535',\n",
    "'iDR4_3_STRIPE82-0110_0074358',\n",
    "'iDR4_3_STRIPE82-0119_0000975',\n",
    "'iDR4_3_STRIPE82-0088_0136078',\n",
    "'iDR4_3_STRIPE82-0034_0030830',\n",
    "'iDR4_3_STRIPE82-0092_0104473',\n",
    "'iDR4_3_STRIPE82-0119_0005304',\n",
    "'iDR4_3_STRIPE82-0121_0003994',\n",
    "'iDR4_3_STRIPE82-0121_0002900',\n",
    "'iDR4_3_STRIPE82-0119_0003104',\n",
    "'iDR4_3_STRIPE82-0036_0013965',\n",
    "'iDR4_3_STRIPE82-0088_0138553']\n",
    "final_s = final_s[~(final_s.ID.isin(IDS))]"
   ]
  },
  {
   "cell_type": "markdown",
   "metadata": {},
   "source": [
    "### Train/Test/Val Split"
   ]
  },
  {
   "cell_type": "code",
   "execution_count": 17,
   "metadata": {},
   "outputs": [],
   "source": [
    "from sklearn.model_selection import train_test_split\n",
    "train, test = train_test_split(final_b, test_size=0.25,random_state=2)\n",
    "train, val = train_test_split(train, test_size=0.2,random_state=2)\n",
    "train = train.assign(split=\"train\")\n",
    "test = test.assign(split=\"test\")\n",
    "val = val.assign(split=\"val\")\n",
    "final_b = pd.concat([train,test,val])    "
   ]
  },
  {
   "cell_type": "code",
   "execution_count": 20,
   "metadata": {},
   "outputs": [],
   "source": [
    "#final_s.to_csv(\"unl_small.csv\")\n",
    "final_b.to_csv(\"unl_big_w99.csv\")"
   ]
  },
  {
   "cell_type": "code",
   "execution_count": 2,
   "metadata": {},
   "outputs": [],
   "source": [
    "import pandas as pd\n",
    "final_s = pd.read_csv(\"unl_small.csv\")"
   ]
  },
  {
   "cell_type": "code",
   "execution_count": 15,
   "metadata": {},
   "outputs": [
    {
     "data": {
      "text/plain": [
       "36.972713"
      ]
     },
     "execution_count": 15,
     "metadata": {},
     "output_type": "execute_result"
    }
   ],
   "source": [
    "final_s[ ['u_iso', 'J0378_iso', 'J0395_iso', 'J0410_iso', 'J0430_iso', 'g_iso', 'J0515_iso', 'r_iso', \n",
    "'J0660_iso', 'i_iso', 'J0861_iso', 'z_iso']].max().max()"
   ]
  },
  {
   "cell_type": "code",
   "execution_count": 21,
   "metadata": {},
   "outputs": [],
   "source": [
    "smn = pd.read_csv(\"unl_small_noise.csv\")\n",
    "from sklearn.model_selection import train_test_split\n",
    "train, test = train_test_split(smn, test_size=0.1,random_state=2)\n",
    "test, val = train_test_split(test, test_size=0.5,random_state=2)\n",
    "train = train.assign(split=\"train\")\n",
    "test = test.assign(split=\"test\")\n",
    "val = val.assign(split=\"val\")\n",
    "smn = pd.concat([train,test,val])   \n",
    "smn.to_csv(\"unl_small_noise.csv\")"
   ]
  },
  {
   "cell_type": "code",
   "execution_count": 7,
   "metadata": {},
   "outputs": [
    {
     "data": {
      "text/html": [
       "<div>\n",
       "<style scoped>\n",
       "    .dataframe tbody tr th:only-of-type {\n",
       "        vertical-align: middle;\n",
       "    }\n",
       "\n",
       "    .dataframe tbody tr th {\n",
       "        vertical-align: top;\n",
       "    }\n",
       "\n",
       "    .dataframe thead th {\n",
       "        text-align: right;\n",
       "    }\n",
       "</style>\n",
       "<table border=\"1\" class=\"dataframe\">\n",
       "  <thead>\n",
       "    <tr style=\"text-align: right;\">\n",
       "      <th></th>\n",
       "      <th>Unnamed: 0</th>\n",
       "      <th>Unnamed: 0.1</th>\n",
       "      <th>Unnamed: 0.1.1</th>\n",
       "      <th>Unnamed: 0.1.1.1</th>\n",
       "      <th>ID</th>\n",
       "      <th>RA</th>\n",
       "      <th>DEC</th>\n",
       "      <th>A</th>\n",
       "      <th>B</th>\n",
       "      <th>KRON_RADIUS</th>\n",
       "      <th>...</th>\n",
       "      <th>J0430_iso</th>\n",
       "      <th>g_iso</th>\n",
       "      <th>J0515_iso</th>\n",
       "      <th>r_iso</th>\n",
       "      <th>J0660_iso</th>\n",
       "      <th>i_iso</th>\n",
       "      <th>J0861_iso</th>\n",
       "      <th>z_iso</th>\n",
       "      <th>SEX_FLAGS_r</th>\n",
       "      <th>split</th>\n",
       "    </tr>\n",
       "  </thead>\n",
       "  <tbody>\n",
       "    <tr>\n",
       "      <th>105984</th>\n",
       "      <td>114000</td>\n",
       "      <td>105920</td>\n",
       "      <td>3099419</td>\n",
       "      <td>9231791</td>\n",
       "      <td>iDR4_3_STRIPE82-0164_0057541</td>\n",
       "      <td>355.023389</td>\n",
       "      <td>1.077231</td>\n",
       "      <td>0.000209</td>\n",
       "      <td>0.000194</td>\n",
       "      <td>3.557383</td>\n",
       "      <td>...</td>\n",
       "      <td>20.188396</td>\n",
       "      <td>19.856241</td>\n",
       "      <td>19.742489</td>\n",
       "      <td>19.171352</td>\n",
       "      <td>19.094145</td>\n",
       "      <td>18.813960</td>\n",
       "      <td>18.641018</td>\n",
       "      <td>18.708643</td>\n",
       "      <td>0.0</td>\n",
       "      <td>val</td>\n",
       "    </tr>\n",
       "    <tr>\n",
       "      <th>105985</th>\n",
       "      <td>114001</td>\n",
       "      <td>27526</td>\n",
       "      <td>1941928</td>\n",
       "      <td>5957682</td>\n",
       "      <td>iDR4_3_STRIPE82-0104_0027314</td>\n",
       "      <td>312.507114</td>\n",
       "      <td>0.439849</td>\n",
       "      <td>0.000252</td>\n",
       "      <td>0.000237</td>\n",
       "      <td>3.818191</td>\n",
       "      <td>...</td>\n",
       "      <td>18.978998</td>\n",
       "      <td>18.611868</td>\n",
       "      <td>18.448587</td>\n",
       "      <td>18.088337</td>\n",
       "      <td>17.976402</td>\n",
       "      <td>17.867529</td>\n",
       "      <td>17.861181</td>\n",
       "      <td>17.795359</td>\n",
       "      <td>0.0</td>\n",
       "      <td>val</td>\n",
       "    </tr>\n",
       "    <tr>\n",
       "      <th>105986</th>\n",
       "      <td>114002</td>\n",
       "      <td>42183</td>\n",
       "      <td>64691</td>\n",
       "      <td>208484</td>\n",
       "      <td>iDR4_3_STRIPE82-0005_0033540</td>\n",
       "      <td>2.267893</td>\n",
       "      <td>-0.041635</td>\n",
       "      <td>0.000554</td>\n",
       "      <td>0.000401</td>\n",
       "      <td>4.272223</td>\n",
       "      <td>...</td>\n",
       "      <td>20.250051</td>\n",
       "      <td>19.548360</td>\n",
       "      <td>19.302013</td>\n",
       "      <td>18.456608</td>\n",
       "      <td>18.301733</td>\n",
       "      <td>17.994484</td>\n",
       "      <td>17.828642</td>\n",
       "      <td>17.658915</td>\n",
       "      <td>0.0</td>\n",
       "      <td>val</td>\n",
       "    </tr>\n",
       "    <tr>\n",
       "      <th>105987</th>\n",
       "      <td>114003</td>\n",
       "      <td>116124</td>\n",
       "      <td>1803746</td>\n",
       "      <td>5586461</td>\n",
       "      <td>iDR4_3_STRIPE82-0100_0047124</td>\n",
       "      <td>308.317611</td>\n",
       "      <td>0.651317</td>\n",
       "      <td>0.000256</td>\n",
       "      <td>0.000208</td>\n",
       "      <td>3.816561</td>\n",
       "      <td>...</td>\n",
       "      <td>20.826345</td>\n",
       "      <td>20.317255</td>\n",
       "      <td>20.084782</td>\n",
       "      <td>19.635654</td>\n",
       "      <td>19.442486</td>\n",
       "      <td>19.275942</td>\n",
       "      <td>19.361988</td>\n",
       "      <td>19.095644</td>\n",
       "      <td>0.0</td>\n",
       "      <td>val</td>\n",
       "    </tr>\n",
       "    <tr>\n",
       "      <th>105988</th>\n",
       "      <td>114004</td>\n",
       "      <td>20913</td>\n",
       "      <td>1754866</td>\n",
       "      <td>5443141</td>\n",
       "      <td>iDR4_3_STRIPE82-0099_0010843</td>\n",
       "      <td>308.483248</td>\n",
       "      <td>-1.227141</td>\n",
       "      <td>0.000291</td>\n",
       "      <td>0.000280</td>\n",
       "      <td>3.990332</td>\n",
       "      <td>...</td>\n",
       "      <td>19.799902</td>\n",
       "      <td>19.258066</td>\n",
       "      <td>19.077309</td>\n",
       "      <td>18.482850</td>\n",
       "      <td>18.403728</td>\n",
       "      <td>18.092080</td>\n",
       "      <td>18.058111</td>\n",
       "      <td>17.934353</td>\n",
       "      <td>0.0</td>\n",
       "      <td>val</td>\n",
       "    </tr>\n",
       "    <tr>\n",
       "      <th>...</th>\n",
       "      <td>...</td>\n",
       "      <td>...</td>\n",
       "      <td>...</td>\n",
       "      <td>...</td>\n",
       "      <td>...</td>\n",
       "      <td>...</td>\n",
       "      <td>...</td>\n",
       "      <td>...</td>\n",
       "      <td>...</td>\n",
       "      <td>...</td>\n",
       "      <td>...</td>\n",
       "      <td>...</td>\n",
       "      <td>...</td>\n",
       "      <td>...</td>\n",
       "      <td>...</td>\n",
       "      <td>...</td>\n",
       "      <td>...</td>\n",
       "      <td>...</td>\n",
       "      <td>...</td>\n",
       "      <td>...</td>\n",
       "      <td>...</td>\n",
       "    </tr>\n",
       "    <tr>\n",
       "      <th>111558</th>\n",
       "      <td>119994</td>\n",
       "      <td>9132</td>\n",
       "      <td>2956541</td>\n",
       "      <td>8763527</td>\n",
       "      <td>iDR4_3_STRIPE82-0154_0026015</td>\n",
       "      <td>346.831619</td>\n",
       "      <td>0.749367</td>\n",
       "      <td>0.000263</td>\n",
       "      <td>0.000258</td>\n",
       "      <td>3.227543</td>\n",
       "      <td>...</td>\n",
       "      <td>18.273840</td>\n",
       "      <td>17.819225</td>\n",
       "      <td>17.650726</td>\n",
       "      <td>17.236702</td>\n",
       "      <td>17.163220</td>\n",
       "      <td>17.026743</td>\n",
       "      <td>16.956928</td>\n",
       "      <td>16.943758</td>\n",
       "      <td>0.0</td>\n",
       "      <td>val</td>\n",
       "    </tr>\n",
       "    <tr>\n",
       "      <th>111559</th>\n",
       "      <td>119995</td>\n",
       "      <td>24622</td>\n",
       "      <td>612368</td>\n",
       "      <td>2097839</td>\n",
       "      <td>iDR4_3_STRIPE82-0045_0019526</td>\n",
       "      <td>31.306842</td>\n",
       "      <td>-0.824247</td>\n",
       "      <td>0.000327</td>\n",
       "      <td>0.000292</td>\n",
       "      <td>3.165165</td>\n",
       "      <td>...</td>\n",
       "      <td>19.755163</td>\n",
       "      <td>18.538303</td>\n",
       "      <td>18.458021</td>\n",
       "      <td>17.245150</td>\n",
       "      <td>16.805468</td>\n",
       "      <td>15.992848</td>\n",
       "      <td>15.619257</td>\n",
       "      <td>15.463009</td>\n",
       "      <td>0.0</td>\n",
       "      <td>val</td>\n",
       "    </tr>\n",
       "    <tr>\n",
       "      <th>111560</th>\n",
       "      <td>119997</td>\n",
       "      <td>101853</td>\n",
       "      <td>1497148</td>\n",
       "      <td>4909140</td>\n",
       "      <td>iDR4_3_STRIPE82-0093_0082529</td>\n",
       "      <td>303.980209</td>\n",
       "      <td>-0.388334</td>\n",
       "      <td>0.000344</td>\n",
       "      <td>0.000336</td>\n",
       "      <td>3.551454</td>\n",
       "      <td>...</td>\n",
       "      <td>18.264805</td>\n",
       "      <td>17.646732</td>\n",
       "      <td>17.422867</td>\n",
       "      <td>16.906826</td>\n",
       "      <td>16.819118</td>\n",
       "      <td>16.639856</td>\n",
       "      <td>16.559130</td>\n",
       "      <td>16.540382</td>\n",
       "      <td>0.0</td>\n",
       "      <td>val</td>\n",
       "    </tr>\n",
       "    <tr>\n",
       "      <th>111561</th>\n",
       "      <td>119998</td>\n",
       "      <td>26509</td>\n",
       "      <td>1319794</td>\n",
       "      <td>4520430</td>\n",
       "      <td>iDR4_3_STRIPE82-0090_0090868</td>\n",
       "      <td>301.518666</td>\n",
       "      <td>0.851219</td>\n",
       "      <td>0.000337</td>\n",
       "      <td>0.000318</td>\n",
       "      <td>3.214367</td>\n",
       "      <td>...</td>\n",
       "      <td>16.919987</td>\n",
       "      <td>16.599325</td>\n",
       "      <td>16.429472</td>\n",
       "      <td>16.073507</td>\n",
       "      <td>16.023457</td>\n",
       "      <td>15.877115</td>\n",
       "      <td>15.812462</td>\n",
       "      <td>15.809920</td>\n",
       "      <td>0.0</td>\n",
       "      <td>val</td>\n",
       "    </tr>\n",
       "    <tr>\n",
       "      <th>111562</th>\n",
       "      <td>119999</td>\n",
       "      <td>76340</td>\n",
       "      <td>2650694</td>\n",
       "      <td>7820782</td>\n",
       "      <td>iDR4_3_STRIPE82-0135_0001670</td>\n",
       "      <td>335.055657</td>\n",
       "      <td>-1.373278</td>\n",
       "      <td>0.000249</td>\n",
       "      <td>0.000238</td>\n",
       "      <td>3.843176</td>\n",
       "      <td>...</td>\n",
       "      <td>19.056774</td>\n",
       "      <td>18.727518</td>\n",
       "      <td>18.550047</td>\n",
       "      <td>18.235628</td>\n",
       "      <td>18.151382</td>\n",
       "      <td>18.044651</td>\n",
       "      <td>17.983332</td>\n",
       "      <td>17.871151</td>\n",
       "      <td>0.0</td>\n",
       "      <td>val</td>\n",
       "    </tr>\n",
       "  </tbody>\n",
       "</table>\n",
       "<p>5579 rows × 26 columns</p>\n",
       "</div>"
      ],
      "text/plain": [
       "        Unnamed: 0  Unnamed: 0.1  Unnamed: 0.1.1  Unnamed: 0.1.1.1  \\\n",
       "105984      114000        105920         3099419           9231791   \n",
       "105985      114001         27526         1941928           5957682   \n",
       "105986      114002         42183           64691            208484   \n",
       "105987      114003        116124         1803746           5586461   \n",
       "105988      114004         20913         1754866           5443141   \n",
       "...            ...           ...             ...               ...   \n",
       "111558      119994          9132         2956541           8763527   \n",
       "111559      119995         24622          612368           2097839   \n",
       "111560      119997        101853         1497148           4909140   \n",
       "111561      119998         26509         1319794           4520430   \n",
       "111562      119999         76340         2650694           7820782   \n",
       "\n",
       "                                  ID          RA       DEC         A  \\\n",
       "105984  iDR4_3_STRIPE82-0164_0057541  355.023389  1.077231  0.000209   \n",
       "105985  iDR4_3_STRIPE82-0104_0027314  312.507114  0.439849  0.000252   \n",
       "105986  iDR4_3_STRIPE82-0005_0033540    2.267893 -0.041635  0.000554   \n",
       "105987  iDR4_3_STRIPE82-0100_0047124  308.317611  0.651317  0.000256   \n",
       "105988  iDR4_3_STRIPE82-0099_0010843  308.483248 -1.227141  0.000291   \n",
       "...                              ...         ...       ...       ...   \n",
       "111558  iDR4_3_STRIPE82-0154_0026015  346.831619  0.749367  0.000263   \n",
       "111559  iDR4_3_STRIPE82-0045_0019526   31.306842 -0.824247  0.000327   \n",
       "111560  iDR4_3_STRIPE82-0093_0082529  303.980209 -0.388334  0.000344   \n",
       "111561  iDR4_3_STRIPE82-0090_0090868  301.518666  0.851219  0.000337   \n",
       "111562  iDR4_3_STRIPE82-0135_0001670  335.055657 -1.373278  0.000249   \n",
       "\n",
       "               B  KRON_RADIUS  ...  J0430_iso      g_iso  J0515_iso  \\\n",
       "105984  0.000194     3.557383  ...  20.188396  19.856241  19.742489   \n",
       "105985  0.000237     3.818191  ...  18.978998  18.611868  18.448587   \n",
       "105986  0.000401     4.272223  ...  20.250051  19.548360  19.302013   \n",
       "105987  0.000208     3.816561  ...  20.826345  20.317255  20.084782   \n",
       "105988  0.000280     3.990332  ...  19.799902  19.258066  19.077309   \n",
       "...          ...          ...  ...        ...        ...        ...   \n",
       "111558  0.000258     3.227543  ...  18.273840  17.819225  17.650726   \n",
       "111559  0.000292     3.165165  ...  19.755163  18.538303  18.458021   \n",
       "111560  0.000336     3.551454  ...  18.264805  17.646732  17.422867   \n",
       "111561  0.000318     3.214367  ...  16.919987  16.599325  16.429472   \n",
       "111562  0.000238     3.843176  ...  19.056774  18.727518  18.550047   \n",
       "\n",
       "            r_iso  J0660_iso      i_iso  J0861_iso      z_iso  SEX_FLAGS_r  \\\n",
       "105984  19.171352  19.094145  18.813960  18.641018  18.708643          0.0   \n",
       "105985  18.088337  17.976402  17.867529  17.861181  17.795359          0.0   \n",
       "105986  18.456608  18.301733  17.994484  17.828642  17.658915          0.0   \n",
       "105987  19.635654  19.442486  19.275942  19.361988  19.095644          0.0   \n",
       "105988  18.482850  18.403728  18.092080  18.058111  17.934353          0.0   \n",
       "...           ...        ...        ...        ...        ...          ...   \n",
       "111558  17.236702  17.163220  17.026743  16.956928  16.943758          0.0   \n",
       "111559  17.245150  16.805468  15.992848  15.619257  15.463009          0.0   \n",
       "111560  16.906826  16.819118  16.639856  16.559130  16.540382          0.0   \n",
       "111561  16.073507  16.023457  15.877115  15.812462  15.809920          0.0   \n",
       "111562  18.235628  18.151382  18.044651  17.983332  17.871151          0.0   \n",
       "\n",
       "        split  \n",
       "105984    val  \n",
       "105985    val  \n",
       "105986    val  \n",
       "105987    val  \n",
       "105988    val  \n",
       "...       ...  \n",
       "111558    val  \n",
       "111559    val  \n",
       "111560    val  \n",
       "111561    val  \n",
       "111562    val  \n",
       "\n",
       "[5579 rows x 26 columns]"
      ]
     },
     "execution_count": 7,
     "metadata": {},
     "output_type": "execute_result"
    }
   ],
   "source": [
    "smn = pd.read_csv(\"unl_small_noise.csv\")\n",
    "smn[smn.split ==\"val\"]"
   ]
  }
 ],
 "metadata": {
  "kernelspec": {
   "display_name": "Python 3.9.7 ('base')",
   "language": "python",
   "name": "python3"
  },
  "language_info": {
   "codemirror_mode": {
    "name": "ipython",
    "version": 3
   },
   "file_extension": ".py",
   "mimetype": "text/x-python",
   "name": "python",
   "nbconvert_exporter": "python",
   "pygments_lexer": "ipython3",
   "version": "3.9.7"
  },
  "orig_nbformat": 4,
  "vscode": {
   "interpreter": {
    "hash": "cb22f516c9dbd103206a5f1b8c3011b228f1ef9007f783aade126d2be20f1f6e"
   }
  }
 },
 "nbformat": 4,
 "nbformat_minor": 2
}
